{
 "metadata": {
  "name": "CH3"
 }, 
 "nbformat": 2, 
 "worksheets": [
  {
   "cells": [
    {
     "cell_type": "code", 
     "collapsed": false, 
     "input": [
      "import math", 
      "print math"
     ], 
     "language": "python", 
     "outputs": [
      {
       "output_type": "stream", 
       "stream": "stdout", 
       "text": [
        "&lt;module &apos;math&apos; from &apos;/Library/Frameworks/EPD64.framework/Versions/7.2/lib/python2.7/lib-dynload/math.so&apos;&gt;"
       ]
      }
     ], 
     "prompt_number": 1
    }, 
    {
     "cell_type": "code", 
     "collapsed": false, 
     "input": [
      "math.exp(0)", 
      "#PowerRatio = signalP / noiseP  #P in caps to show what P means in variables", 
      "#dB = 10*math.log10(PowerRatio)", 
      "math.exp(0)"
     ], 
     "language": "python", 
     "outputs": [
      {
       "output_type": "pyout", 
       "prompt_number": 2, 
       "text": [
        "1.0"
       ]
      }
     ], 
     "prompt_number": 2
    }, 
    {
     "cell_type": "code", 
     "collapsed": false, 
     "input": [
      "swimThroughCoinsLikeDaffy()"
     ], 
     "language": "python", 
     "outputs": [
      {
       "ename": "NameError", 
       "evalue": "name 'swimThroughCoinsLikeDaffy' is not defined", 
       "output_type": "pyerr", 
       "traceback": [
        "<span class=\"ansired\">---------------------------------------------------------------------------</span>\n<span class=\"ansired\">NameError</span>                                 Traceback (most recent call last)", 
        "<span class=\"ansigreen\">/Users/klowry/PHYS400/&lt;ipython-input-3-a4731fd46e1d&gt;</span> in <span class=\"ansicyan\">&lt;module&gt;</span><span class=\"ansiblue\">()</span>\n<span class=\"ansigreen\">----&gt; 1</span><span class=\"ansired\"> </span>swimThroughCoinsLikeDaffy<span class=\"ansiblue\">(</span><span class=\"ansiblue\">)</span><span class=\"ansiblue\"></span>\n", 
        "<span class=\"ansired\">NameError</span>: name &apos;swimThroughCoinsLikeDaffy&apos; is not defined"
       ]
      }
     ], 
     "prompt_number": 3
    }, 
    {
     "cell_type": "code", 
     "collapsed": false, 
     "input": [
      "print'EX 3.1'", 
      "print''", 
      "print'PART A'", 
      "print''", 
      "print'This is trying to run an undefined function'", 
      "swimThroughCoinsLikeDaffy()"
     ], 
     "language": "python", 
     "outputs": [
      {
       "ename": "NameError", 
       "evalue": "name 'swimThroughCoinsLikeDaffy' is not defined", 
       "output_type": "pyerr", 
       "traceback": [
        "<span class=\"ansired\">---------------------------------------------------------------------------</span>\n<span class=\"ansired\">NameError</span>                                 Traceback (most recent call last)", 
        "<span class=\"ansigreen\">/Users/klowry/PHYS400/&lt;ipython-input-4-e7cab32d6c0d&gt;</span> in <span class=\"ansicyan\">&lt;module&gt;</span><span class=\"ansiblue\">()</span>\n<span class=\"ansigreen\">      4</span> <span class=\"ansigreen\">print</span><span class=\"ansiblue\">&apos;&apos;</span><span class=\"ansiblue\"></span>\n<span class=\"ansigreen\">      5</span> <span class=\"ansigreen\">print</span><span class=\"ansiblue\">&apos;This is trying to run an undefined function&apos;</span><span class=\"ansiblue\"></span>\n<span class=\"ansigreen\">----&gt; 6</span><span class=\"ansired\"> </span>swimThroughCoinsLikeDaffy<span class=\"ansiblue\">(</span><span class=\"ansiblue\">)</span><span class=\"ansiblue\"></span>\n", 
        "<span class=\"ansired\">NameError</span>: name &apos;swimThroughCoinsLikeDaffy&apos; is not defined"
       ]
      }, 
      {
       "output_type": "stream", 
       "stream": "stdout", 
       "text": [
        "EX 3.1", 
        "", 
        "PART A", 
        "", 
        "This is trying to run an undefined function"
       ]
      }
     ], 
     "prompt_number": 4
    }, 
    {
     "cell_type": "code", 
     "collapsed": false, 
     "input": [
      "print'EX 3.1 Cont'", 
      "print'' ", 
      "print'PART B' ", 
      "print'' ", 
      "repeat_lyrics() ", 
      "def print_lyrics(): ", 
      "    print\"I'm a lumberjack, and I'm okay.\" ", 
      "    print\"I sleep all night and work all day.\" ", 
      "def repeat_lyrics(): ", 
      "    print_lyrics() ", 
      "    print_lyrics()"
     ], 
     "language": "python", 
     "outputs": [
      {
       "ename": "NameError", 
       "evalue": "name 'repeat_lyrics' is not defined", 
       "output_type": "pyerr", 
       "traceback": [
        "<span class=\"ansired\">---------------------------------------------------------------------------</span>\n<span class=\"ansired\">NameError</span>                                 Traceback (most recent call last)", 
        "<span class=\"ansigreen\">/Users/klowry/PHYS400/&lt;ipython-input-5-9f5d8fa92f69&gt;</span> in <span class=\"ansicyan\">&lt;module&gt;</span><span class=\"ansiblue\">()</span>\n<span class=\"ansigreen\">      3</span> <span class=\"ansigreen\">print</span><span class=\"ansiblue\">&apos;PART B&apos;</span><span class=\"ansiblue\"></span>\n<span class=\"ansigreen\">      4</span> <span class=\"ansigreen\">print</span><span class=\"ansiblue\">&apos;&apos;</span><span class=\"ansiblue\"></span>\n<span class=\"ansigreen\">----&gt; 5</span><span class=\"ansired\"> </span>repeat_lyrics<span class=\"ansiblue\">(</span><span class=\"ansiblue\">)</span><span class=\"ansiblue\"></span>\n<span class=\"ansigreen\">      6</span> <span class=\"ansigreen\">def</span> print_lyrics<span class=\"ansiblue\">(</span><span class=\"ansiblue\">)</span><span class=\"ansiblue\">:</span><span class=\"ansiblue\"></span>\n<span class=\"ansigreen\">      7</span>     <span class=\"ansigreen\">print</span><span class=\"ansiblue\">&quot;I&apos;m a lumberjack, and I&apos;m okay.&quot;</span><span class=\"ansiblue\"></span>\n", 
        "<span class=\"ansired\">NameError</span>: name &apos;repeat_lyrics&apos; is not defined"
       ]
      }, 
      {
       "output_type": "stream", 
       "stream": "stdout", 
       "text": [
        "EX 3.1 Cont", 
        "", 
        "PART B", 
        ""
       ]
      }
     ], 
     "prompt_number": 5
    }, 
    {
     "cell_type": "code", 
     "collapsed": false, 
     "input": [
      "print'EX 3.2'", 
      "print''", 
      "def repeat_lyrics2():", 
      "    print_lyrics2()", 
      "    print_lyrics2()", 
      "def print_lyrics2():", 
      "    print\"I'm a lumberjack, and I'm okay.\"", 
      "    print\"I sleep all night and work all day.\"", 
      "repeat_lyrics2()", 
      "print''", 
      "print'In[17] and In[21] run because the functions are defined in the script. In a script definition/call order does not matter.'", 
      "print'It would say that you are trying to run an undefined function if in an interactive sequential prompt like python alone.'"
     ], 
     "language": "python", 
     "outputs": [
      {
       "output_type": "stream", 
       "stream": "stdout", 
       "text": [
        "EX 3.2", 
        "", 
        "I&apos;m a lumberjack, and I&apos;m okay.", 
        "I sleep all night and work all day.", 
        "I&apos;m a lumberjack, and I&apos;m okay.", 
        "I sleep all night and work all day.", 
        "", 
        "In[17] and In[21] run because the functions are defined in the script. In a script definition/call order does not matter.", 
        "It would say that you are trying to run an undefined function if in an interactive sequential prompt like python alone."
       ]
      }
     ], 
     "prompt_number": 6
    }, 
    {
     "cell_type": "code", 
     "collapsed": false, 
     "input": [
      "print'EX 3.3'", 
      "print''", 
      "def right_justify(s):", 
      "    a = 70-len(s)", 
      "    print ' '*a+s", 
      "print len('allen')", 
      "right_justify('allen')"
     ], 
     "language": "python", 
     "outputs": [
      {
       "output_type": "stream", 
       "stream": "stdout", 
       "text": [
        "EX 3.3", 
        "", 
        "5", 
        "                                                                 allen"
       ]
      }
     ], 
     "prompt_number": 15
    }, 
    {
     "cell_type": "code", 
     "collapsed": false, 
     "input": [
      "right_justify('a                                                                     ')", 
      "print len('a                                                                     ')", 
      "right_justify('a                                                                     ')"
     ], 
     "language": "python", 
     "outputs": [
      {
       "output_type": "stream", 
       "stream": "stdout", 
       "text": [
        "a                                                                     ", 
        "70", 
        "a                                                                     "
       ]
      }
     ], 
     "prompt_number": 16
    }, 
    {
     "cell_type": "code", 
     "collapsed": false, 
     "input": [
      "print'EX 3.4'", 
      "print''", 
      "print'1.'", 
      "print''", 
      "def do_twice(f):", 
      "    f()", 
      "    f()", 
      "def print_spam():", 
      "    print'spam'", 
      "do_twice(print_spam)"
     ], 
     "language": "python", 
     "outputs": [
      {
       "output_type": "stream", 
       "stream": "stdout", 
       "text": [
        "EX 3.4", 
        "", 
        "1.", 
        "", 
        "spam", 
        "spam"
       ]
      }
     ], 
     "prompt_number": 19
    }, 
    {
     "cell_type": "code", 
     "collapsed": false, 
     "input": [
      "print'EX 3.4 Cont'", 
      "print''", 
      "print'2.'", 
      "print''", 
      "def do_twice(f, v):", 
      "    f(v)", 
      "    f(v)", 
      "def print_v(value):", 
      "    print(value)", 
      "do_twice(print_v,'Hello')", 
      "do_twice(print_v, 'Hey!')"
     ], 
     "language": "python", 
     "outputs": [
      {
       "output_type": "stream", 
       "stream": "stdout", 
       "text": [
        "EX 3.4 Cont", 
        "", 
        "2.", 
        "", 
        "Hello", 
        "Hello", 
        "Hey!", 
        "Hey!"
       ]
      }
     ], 
     "prompt_number": 21
    }, 
    {
     "cell_type": "code", 
     "collapsed": false, 
     "input": [
      "print'EX 3.4 Cont'", 
      "print''", 
      "print'3.'", 
      "print''", 
      "", 
      "def print_twice(s):", 
      "    print(s)", 
      "    print(s)", 
      "print_twice('Hey Again!')", 
      "print''", 
      "print'4.'", 
      "print''", 
      "do_twice(print_twice,'spam')", 
      "print", 
      "print'5.'", 
      "print", 
      "def do_four(f,v):", 
      "    do_twice(f,v)", 
      "    do_twice(f,v)", 
      "print'def do_four(f,v): do_twice(f,v) do_twice(f,v)'"
     ], 
     "language": "python", 
     "outputs": [
      {
       "output_type": "stream", 
       "stream": "stdout", 
       "text": [
        "EX 3.4 Cont", 
        "", 
        "3.", 
        "", 
        "Hey Again!", 
        "Hey Again!", 
        "", 
        "4.", 
        "", 
        "spam", 
        "spam", 
        "spam", 
        "spam", 
        "", 
        "5.", 
        "", 
        "def do_four(f,v): do_twice(f,v) do_twice(f,v)"
       ]
      }
     ], 
     "prompt_number": 26
    }, 
    {
     "cell_type": "code", 
     "collapsed": false, 
     "input": [
      "print '+','-'"
     ], 
     "language": "python", 
     "outputs": [
      {
       "output_type": "stream", 
       "stream": "stdout", 
       "text": [
        "+ -"
       ]
      }
     ], 
     "prompt_number": 36
    }, 
    {
     "cell_type": "code", 
     "collapsed": false, 
     "input": [
      "print'+','-'", 
      "print'+',;print'-'", 
      "print'+'+'-'", 
      "print\"in python in the terminal,>>> [print'+',;print'-'] results in +- but in iPython [print'+',;print'-'] results in +\\n-\""
     ], 
     "language": "python", 
     "outputs": [
      {
       "output_type": "stream", 
       "stream": "stdout", 
       "text": [
        "+ -", 
        "+", 
        "-", 
        "+-", 
        "in python in the terminal,&gt;&gt;&gt; [print&apos;+&apos;,;print&apos;-&apos;] results in +- but in iPython [print&apos;+&apos;,;print&apos;-&apos;] results in +", 
        "-"
       ]
      }
     ], 
     "prompt_number": 46
    }, 
    {
     "cell_type": "code", 
     "collapsed": false, 
     "input": [
      "print'EX 3.5'", 
      "print", 
      "print'1.'", 
      "def grid2():", 
      "    # n = number of columns, 2 rows only", 
      "    def nothing():", 
      "        \"not\"", 
      "    def beam(v):", 
      "        print'+ - - - -',", 
      "    def beams2(v):", 
      "        do_twice(beam,nothing)", 
      "        print'+'", 
      "    def post(v):", 
      "        print'|        ',", 
      "    def posts2(v):", 
      "        do_twice(post,nothing)", 
      "        print'|'", 
      "    def columns2(v):", 
      "        do_four(posts2,nothing)", 
      "    def tops2(v):", 
      "        beams2(v)", 
      "        columns2(v)", 
      "    do_twice(tops2,nothing)", 
      "    beams2(nothing)", 
      "    ", 
      "grid2()"
     ], 
     "language": "python", 
     "outputs": [
      {
       "output_type": "stream", 
       "stream": "stdout", 
       "text": [
        "EX 3.5", 
        "", 
        "1.", 
        "+ - - - - + - - - - +", 
        "|         |         |", 
        "|         |         |", 
        "|         |         |", 
        "|         |         |", 
        "+ - - - - + - - - - +", 
        "|         |         |", 
        "|         |         |", 
        "|         |         |", 
        "|         |         |", 
        "+ - - - - + - - - - +"
       ]
      }
     ], 
     "prompt_number": 67
    }, 
    {
     "cell_type": "code", 
     "collapsed": false, 
     "input": [
      "print'EX 3.5 Cont'", 
      "print", 
      "print'2.'", 
      "print", 
      "def grid4(n):", 
      "    def beams(n):", 
      "        print n*'+ - - - - '+'+'", 
      "    def posts(n):", 
      "        print n*'|         '+'|'", 
      "    def columns(n):", 
      "        do_four(posts,n)", 
      "    def tops(n):", 
      "        beams(n)", 
      "        columns(n)", 
      "    do_four(tops,n)", 
      "    beams(n)", 
      "    ", 
      "grid4(4)", 
      "grid4(5)"
     ], 
     "language": "python", 
     "outputs": [
      {
       "output_type": "stream", 
       "stream": "stdout", 
       "text": [
        "EX 3.5 Cont", 
        "", 
        "2.", 
        "", 
        "+ - - - - + - - - - + - - - - + - - - - +", 
        "|         |         |         |         |", 
        "|         |         |         |         |", 
        "|         |         |         |         |", 
        "|         |         |         |         |", 
        "+ - - - - + - - - - + - - - - + - - - - +", 
        "|         |         |         |         |", 
        "|         |         |         |         |", 
        "|         |         |         |         |", 
        "|         |         |         |         |", 
        "+ - - - - + - - - - + - - - - + - - - - +", 
        "|         |         |         |         |", 
        "|         |         |         |         |", 
        "|         |         |         |         |", 
        "|         |         |         |         |", 
        "+ - - - - + - - - - + - - - - + - - - - +", 
        "|         |         |         |         |", 
        "|         |         |         |         |", 
        "|         |         |         |         |", 
        "|         |         |         |         |", 
        "+ - - - - + - - - - + - - - - + - - - - +", 
        "+ - - - - + - - - - + - - - - + - - - - + - - - - +", 
        "|         |         |         |         |         |", 
        "|         |         |         |         |         |", 
        "|         |         |         |         |         |", 
        "|         |         |         |         |         |", 
        "+ - - - - + - - - - + - - - - + - - - - + - - - - +", 
        "|         |         |         |         |         |", 
        "|         |         |         |         |         |", 
        "|         |         |         |         |         |", 
        "|         |         |         |         |         |", 
        "+ - - - - + - - - - + - - - - + - - - - + - - - - +", 
        "|         |         |         |         |         |", 
        "|         |         |         |         |         |", 
        "|         |         |         |         |         |", 
        "|         |         |         |         |         |", 
        "+ - - - - + - - - - + - - - - + - - - - + - - - - +", 
        "|         |         |         |         |         |", 
        "|         |         |         |         |         |", 
        "|         |         |         |         |         |", 
        "|         |         |         |         |         |", 
        "+ - - - - + - - - - + - - - - + - - - - + - - - - +"
       ]
      }
     ], 
     "prompt_number": 68
    }, 
    {
     "cell_type": "code", 
     "collapsed": true, 
     "input": [], 
     "language": "python", 
     "outputs": [], 
     "prompt_number": "&nbsp;"
    }
   ]
  }
 ]
}