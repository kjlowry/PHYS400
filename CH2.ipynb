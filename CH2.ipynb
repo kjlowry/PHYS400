{
 "metadata": {
  "name": "CH2"
 }, 
 "nbformat": 2, 
 "worksheets": [
  {
   "cells": [
    {
     "cell_type": "code", 
     "collapsed": false, 
     "input": [
      "print 'EX 2.1'", 
      "print 'values starting with 0 are interpretted as Octal values'"
     ], 
     "language": "python", 
     "outputs": [
      {
       "output_type": "stream", 
       "stream": "stdout", 
       "text": [
        "EX 2.1", 
        "values starting with 0 are interpretted as Octal values"
       ]
      }
     ], 
     "prompt_number": 1
    }, 
    {
     "cell_type": "code", 
     "collapsed": false, 
     "input": [
      "print 'EX 2.2'", 
      "print 'Part A'", 
      "5", 
      "x = 5", 
      "x + 1"
     ], 
     "language": "python", 
     "outputs": [
      {
       "output_type": "stream", 
       "stream": "stdout", 
       "text": [
        "EX 2.2", 
        "Part A"
       ]
      }, 
      {
       "output_type": "pyout", 
       "prompt_number": 2, 
       "text": [
        "6"
       ]
      }
     ], 
     "prompt_number": 2
    }, 
    {
     "cell_type": "code", 
     "collapsed": false, 
     "input": [
      "print 'EX 2.2 Cont'", 
      "print 'PART B'", 
      "print 5", 
      "x = 5", 
      "print 'x => ';print x", 
      "print 'x + 1 ='; print x+1"
     ], 
     "language": "python", 
     "outputs": [
      {
       "output_type": "stream", 
       "stream": "stdout", 
       "text": [
        "EX 2.2 Cont", 
        "PART B", 
        "5", 
        "x =&gt; ", 
        "5", 
        "x + 1 =", 
        "6"
       ]
      }
     ], 
     "prompt_number": 5
    }, 
    {
     "cell_type": "code", 
     "collapsed": false, 
     "input": [
      "print 'EX 2.3'", 
      "print''", 
      "w = 17", 
      "print 'w = 17 is width'", 
      "h = 12.0", 
      "print 'h = 12.0 is height'", 
      "delimiter = '.'", 
      "print 'delimiter is a string consisting of a period'", 
      "print''", 
      "print'1.'", 
      "print'w/2 = ';print w/2;print type(w/2)", 
      "print''", 
      "print'2.'", 
      "print'w/2.0 = ';print w/2.0;print type(w/2.0)", 
      "print''", 
      "print'3.'", 
      "print'h/3 = ';print h/3; print type(h/3)", 
      "print''", 
      "print'4.'", 
      "print'1+2*5 = ';print 1+2*5;print type(1+2*5)", 
      "print''", 
      "print'5.'", 
      "print'delimiter*5 = ';print delimiter*5;print type(delimiter*5)"
     ], 
     "language": "python", 
     "outputs": [
      {
       "output_type": "stream", 
       "stream": "stdout", 
       "text": [
        "EX 2.3", 
        "", 
        "w = 17 is width", 
        "h = 12.0 is height", 
        "delimiter is a string consisting of a period", 
        "", 
        "1.", 
        "w/2 = ", 
        "8", 
        "&lt;type &apos;int&apos;&gt;", 
        "", 
        "2.", 
        "w/2.0 = ", 
        "8.5", 
        "&lt;type &apos;float&apos;&gt;", 
        "", 
        "3.", 
        "h/3 = ", 
        "4.0", 
        "&lt;type &apos;float&apos;&gt;", 
        "", 
        "4.", 
        "1+2*5 = ", 
        "11", 
        "&lt;type &apos;int&apos;&gt;", 
        "", 
        "5.", 
        "delimiter*5 = ", 
        ".....", 
        "&lt;type &apos;str&apos;&gt;"
       ]
      }
     ], 
     "prompt_number": 11
    }, 
    {
     "cell_type": "code", 
     "collapsed": false, 
     "input": [
      "print'EX 2.4'", 
      "print''", 
      "print'1.'", 
      "print'R = 5 is the radius of a sphere'", 
      "R = 5", 
      "print'Volume of a sphere of radius 5 = 4.0/3*pi*5**3 ='", 
      "pi = 3.1415926535897932", 
      "print(4.0/3)*pi*R**3", 
      "", 
      "print''", 
      "print'2.'", 
      "print'Cover price of a particular book, cp = 24.95 dollars'", 
      "cp = 24.95", 
      "print'Bookstore gets .4cp off so Bookstore price, bp = .6cp dollars'", 
      "bp = .6*cp", 
      "print'bp = ';print bp", 
      "B = 60", 
      "print'B = 60 is the number of Book copies to be ordered'", 
      "print'shipping price for more than one book, sp = 3 + .75(B-1)'", 
      "sp = 3 + .75*(B-1)", 
      "print'sp = ';print sp", 
      "C = B*bp+sp", 
      "print 'Wholesale Cost for the store is ';print C", 
      "", 
      "print''", 
      "print'3.'", 
      "t_i = 6+52.0/60", 
      "print'Leaves house at 6:52, runs 1 mile at speed 1, runs 3 miles at speed 2 then 1 mile at speed 1 again'", 
      "#2 speeds, 3 part run (slow/fast/slow)", 
      "hoursPerMile1 = (8+15/60.0)/60", 
      "print'MPH1 = '; print 1.0/hoursPerMile1", 
      "hoursPerMile2 = (7+12.0/60)/60", 
      "print'MPH2 = '; print 1.0/hoursPerMile2", 
      "t_f = t_i + 2*hoursPerMile1 + 3*hoursPerMile2", 
      "print'Arrives back home at '+str(int(t_f))+':'+str((t_f-int(t_f))*60)"
     ], 
     "language": "python", 
     "outputs": [
      {
       "output_type": "stream", 
       "stream": "stdout", 
       "text": [
        "EX 2.4", 
        "", 
        "1.", 
        "R = 5 is the radius of a sphere", 
        "Volume of a sphere of radius 5 = 4.0/3*pi*5**3 =", 
        "523.598775598", 
        "", 
        "2.", 
        "Cover price of a particular book, cp = 24.95 dollars", 
        "Bookstore gets .4cp off so Bookstore price, bp = .6cp dollars", 
        "bp = ", 
        "14.97", 
        "B = 60 is the number of Book copies to be ordered", 
        "shipping price for more than one book, sp = 3 + .75(B-1)", 
        "sp = ", 
        "47.25", 
        "Wholesale Cost for the store is ", 
        "945.45", 
        "", 
        "3.", 
        "Leaves house at 6:52, runs 1 mile at speed 1, runs 3 miles at speed 2 then 1 mile at speed 1 again", 
        "MPH1 = ", 
        "7.27272727273", 
        "MPH2 = ", 
        "8.33333333333", 
        "Arrives back home at 7:30.1"
       ]
      }
     ], 
     "prompt_number": 1
    }, 
    {
     "cell_type": "code", 
     "collapsed": true, 
     "input": [], 
     "language": "python", 
     "outputs": [], 
     "prompt_number": "&nbsp;"
    }
   ]
  }
 ]
}